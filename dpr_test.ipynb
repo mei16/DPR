{
  "nbformat": 4,
  "nbformat_minor": 0,
  "metadata": {
    "colab": {
      "name": "dpr_test.ipynb",
      "provenance": [],
      "mount_file_id": "1LYs1-PzouMjGUEDZO7Sfin9uxqHBaLBT",
      "authorship_tag": "ABX9TyPxRSGaAqkxkIM3rLPucxmA",
      "include_colab_link": true
    },
    "kernelspec": {
      "name": "python3",
      "display_name": "Python 3"
    },
    "language_info": {
      "name": "python"
    },
    "accelerator": "GPU"
  },
  "cells": [
    {
      "cell_type": "markdown",
      "metadata": {
        "id": "view-in-github",
        "colab_type": "text"
      },
      "source": [
        "<a href=\"https://colab.research.google.com/github/mei16/DPR/blob/test/dpr_test.ipynb\" target=\"_parent\"><img src=\"https://colab.research.google.com/assets/colab-badge.svg\" alt=\"Open In Colab\"/></a>"
      ]
    },
    {
      "cell_type": "code",
      "execution_count": 2,
      "metadata": {
        "colab": {
          "base_uri": "https://localhost:8080/"
        },
        "id": "7E35OjYCpzmJ",
        "outputId": "2aa5b39a-419e-4540-d7d1-efa1730cd974"
      },
      "outputs": [
        {
          "output_type": "stream",
          "name": "stdout",
          "text": [
            "Cloning into 'DPR'...\n",
            "remote: Enumerating objects: 1195, done.\u001b[K\n",
            "remote: Counting objects: 100% (726/726), done.\u001b[K\n",
            "remote: Compressing objects: 100% (210/210), done.\u001b[K\n",
            "remote: Total 1195 (delta 583), reused 604 (delta 512), pack-reused 469\u001b[K\n",
            "Receiving objects: 100% (1195/1195), 491.56 KiB | 3.75 MiB/s, done.\n",
            "Resolving deltas: 100% (816/816), done.\n"
          ]
        }
      ],
      "source": [
        "! git clone https://github.com/mei16/DPR.git"
      ]
    },
    {
      "cell_type": "code",
      "source": [
        "! ls DPR"
      ],
      "metadata": {
        "colab": {
          "base_uri": "https://localhost:8080/"
        },
        "id": "0mdJUIFls74t",
        "outputId": "71475db9-858b-444d-ac9a-7cfa4344bedc"
      },
      "execution_count": 2,
      "outputs": [
        {
          "output_type": "stream",
          "name": "stdout",
          "text": [
            "CHANGELOG.md\t    dense_retriever.py\t\t  README.md\n",
            "CODE_OF_CONDUCT.md  dpr\t\t\t\t  setup.py\n",
            "conf\t\t    generate_dense_embeddings.py  train_dense_encoder.py\n",
            "CONTRIBUTING.md     LICENSE\t\t\t  train_extractive_reader.py\n"
          ]
        }
      ]
    },
    {
      "cell_type": "code",
      "source": [
        "! cd DPR"
      ],
      "metadata": {
        "id": "yeUZqwA4tAgg"
      },
      "execution_count": 3,
      "outputs": []
    },
    {
      "cell_type": "code",
      "source": [
        "! pip install DPR/."
      ],
      "metadata": {
        "colab": {
          "base_uri": "https://localhost:8080/",
          "height": 1000
        },
        "id": "jGVSWDubtEw7",
        "outputId": "28ea05db-c78e-4949-d3b7-d2be44ad4eb7"
      },
      "execution_count": 3,
      "outputs": [
        {
          "output_type": "stream",
          "name": "stdout",
          "text": [
            "Processing ./DPR\n",
            "\u001b[33m  DEPRECATION: A future pip version will change local packages to be built in-place without first copying to a temporary directory. We recommend you use --use-feature=in-tree-build to test your packages with this new behavior before it becomes the default.\n",
            "   pip 21.3 will remove support for this functionality. You can find discussion regarding this at https://github.com/pypa/pip/issues/7555.\u001b[0m\n",
            "Collecting faiss-cpu>=1.6.1\n",
            "  Downloading faiss_cpu-1.7.2-cp37-cp37m-manylinux_2_17_x86_64.manylinux2014_x86_64.whl (8.6 MB)\n",
            "\u001b[K     |████████████████████████████████| 8.6 MB 4.5 MB/s \n",
            "\u001b[?25hRequirement already satisfied: filelock in /usr/local/lib/python3.7/dist-packages (from dpr==1.0.0) (3.6.0)\n",
            "Requirement already satisfied: numpy in /usr/local/lib/python3.7/dist-packages (from dpr==1.0.0) (1.21.6)\n",
            "Requirement already satisfied: regex in /usr/local/lib/python3.7/dist-packages (from dpr==1.0.0) (2019.12.20)\n",
            "Requirement already satisfied: torch>=1.5.0 in /usr/local/lib/python3.7/dist-packages (from dpr==1.0.0) (1.10.0+cu111)\n",
            "Collecting transformers>=4.3\n",
            "  Downloading transformers-4.18.0-py3-none-any.whl (4.0 MB)\n",
            "\u001b[K     |████████████████████████████████| 4.0 MB 41.6 MB/s \n",
            "\u001b[?25hRequirement already satisfied: tqdm>=4.27 in /usr/local/lib/python3.7/dist-packages (from dpr==1.0.0) (4.64.0)\n",
            "Collecting wget\n",
            "  Downloading wget-3.2.zip (10 kB)\n",
            "Requirement already satisfied: spacy>=2.1.8 in /usr/local/lib/python3.7/dist-packages (from dpr==1.0.0) (2.2.4)\n",
            "Collecting hydra-core>=1.0.0\n",
            "  Downloading hydra_core-1.1.2-py3-none-any.whl (147 kB)\n",
            "\u001b[K     |████████████████████████████████| 147 kB 48.7 MB/s \n",
            "\u001b[?25hCollecting omegaconf>=2.0.1\n",
            "  Downloading omegaconf-2.1.2-py3-none-any.whl (74 kB)\n",
            "\u001b[K     |████████████████████████████████| 74 kB 3.5 MB/s \n",
            "\u001b[?25hCollecting jsonlines\n",
            "  Downloading jsonlines-3.0.0-py3-none-any.whl (8.5 kB)\n",
            "Requirement already satisfied: soundfile in /usr/local/lib/python3.7/dist-packages (from dpr==1.0.0) (0.10.3.post1)\n",
            "Requirement already satisfied: editdistance in /usr/local/lib/python3.7/dist-packages (from dpr==1.0.0) (0.5.3)\n",
            "Collecting antlr4-python3-runtime==4.8\n",
            "  Downloading antlr4-python3-runtime-4.8.tar.gz (112 kB)\n",
            "\u001b[K     |████████████████████████████████| 112 kB 52.8 MB/s \n",
            "\u001b[?25hCollecting importlib-resources<5.3\n",
            "  Downloading importlib_resources-5.2.3-py3-none-any.whl (27 kB)\n",
            "Collecting PyYAML>=5.1.0\n",
            "  Downloading PyYAML-6.0-cp37-cp37m-manylinux_2_5_x86_64.manylinux1_x86_64.manylinux_2_12_x86_64.manylinux2010_x86_64.whl (596 kB)\n",
            "\u001b[K     |████████████████████████████████| 596 kB 40.4 MB/s \n",
            "\u001b[?25hRequirement already satisfied: zipp>=3.1.0 in /usr/local/lib/python3.7/dist-packages (from importlib-resources<5.3->hydra-core>=1.0.0->dpr==1.0.0) (3.8.0)\n",
            "Requirement already satisfied: requests<3.0.0,>=2.13.0 in /usr/local/lib/python3.7/dist-packages (from spacy>=2.1.8->dpr==1.0.0) (2.23.0)\n",
            "Requirement already satisfied: murmurhash<1.1.0,>=0.28.0 in /usr/local/lib/python3.7/dist-packages (from spacy>=2.1.8->dpr==1.0.0) (1.0.6)\n",
            "Requirement already satisfied: setuptools in /usr/local/lib/python3.7/dist-packages (from spacy>=2.1.8->dpr==1.0.0) (57.4.0)\n",
            "Requirement already satisfied: plac<1.2.0,>=0.9.6 in /usr/local/lib/python3.7/dist-packages (from spacy>=2.1.8->dpr==1.0.0) (1.1.3)\n",
            "Requirement already satisfied: wasabi<1.1.0,>=0.4.0 in /usr/local/lib/python3.7/dist-packages (from spacy>=2.1.8->dpr==1.0.0) (0.9.1)\n",
            "Requirement already satisfied: blis<0.5.0,>=0.4.0 in /usr/local/lib/python3.7/dist-packages (from spacy>=2.1.8->dpr==1.0.0) (0.4.1)\n",
            "Requirement already satisfied: srsly<1.1.0,>=1.0.2 in /usr/local/lib/python3.7/dist-packages (from spacy>=2.1.8->dpr==1.0.0) (1.0.5)\n",
            "Requirement already satisfied: catalogue<1.1.0,>=0.0.7 in /usr/local/lib/python3.7/dist-packages (from spacy>=2.1.8->dpr==1.0.0) (1.0.0)\n",
            "Requirement already satisfied: preshed<3.1.0,>=3.0.2 in /usr/local/lib/python3.7/dist-packages (from spacy>=2.1.8->dpr==1.0.0) (3.0.6)\n",
            "Requirement already satisfied: thinc==7.4.0 in /usr/local/lib/python3.7/dist-packages (from spacy>=2.1.8->dpr==1.0.0) (7.4.0)\n",
            "Requirement already satisfied: cymem<2.1.0,>=2.0.2 in /usr/local/lib/python3.7/dist-packages (from spacy>=2.1.8->dpr==1.0.0) (2.0.6)\n",
            "Requirement already satisfied: importlib-metadata>=0.20 in /usr/local/lib/python3.7/dist-packages (from catalogue<1.1.0,>=0.0.7->spacy>=2.1.8->dpr==1.0.0) (4.11.3)\n",
            "Requirement already satisfied: typing-extensions>=3.6.4 in /usr/local/lib/python3.7/dist-packages (from importlib-metadata>=0.20->catalogue<1.1.0,>=0.0.7->spacy>=2.1.8->dpr==1.0.0) (4.1.1)\n",
            "Requirement already satisfied: urllib3!=1.25.0,!=1.25.1,<1.26,>=1.21.1 in /usr/local/lib/python3.7/dist-packages (from requests<3.0.0,>=2.13.0->spacy>=2.1.8->dpr==1.0.0) (1.24.3)\n",
            "Requirement already satisfied: certifi>=2017.4.17 in /usr/local/lib/python3.7/dist-packages (from requests<3.0.0,>=2.13.0->spacy>=2.1.8->dpr==1.0.0) (2021.10.8)\n",
            "Requirement already satisfied: idna<3,>=2.5 in /usr/local/lib/python3.7/dist-packages (from requests<3.0.0,>=2.13.0->spacy>=2.1.8->dpr==1.0.0) (2.10)\n",
            "Requirement already satisfied: chardet<4,>=3.0.2 in /usr/local/lib/python3.7/dist-packages (from requests<3.0.0,>=2.13.0->spacy>=2.1.8->dpr==1.0.0) (3.0.4)\n",
            "Collecting sacremoses\n",
            "  Downloading sacremoses-0.0.49-py3-none-any.whl (895 kB)\n",
            "\u001b[K     |████████████████████████████████| 895 kB 43.6 MB/s \n",
            "\u001b[?25hCollecting tokenizers!=0.11.3,<0.13,>=0.11.1\n",
            "  Downloading tokenizers-0.12.1-cp37-cp37m-manylinux_2_12_x86_64.manylinux2010_x86_64.whl (6.6 MB)\n",
            "\u001b[K     |████████████████████████████████| 6.6 MB 41.0 MB/s \n",
            "\u001b[?25hCollecting huggingface-hub<1.0,>=0.1.0\n",
            "  Downloading huggingface_hub-0.5.1-py3-none-any.whl (77 kB)\n",
            "\u001b[K     |████████████████████████████████| 77 kB 6.6 MB/s \n",
            "\u001b[?25hRequirement already satisfied: packaging>=20.0 in /usr/local/lib/python3.7/dist-packages (from transformers>=4.3->dpr==1.0.0) (21.3)\n",
            "Requirement already satisfied: pyparsing!=3.0.5,>=2.0.2 in /usr/local/lib/python3.7/dist-packages (from packaging>=20.0->transformers>=4.3->dpr==1.0.0) (3.0.8)\n",
            "Requirement already satisfied: attrs>=19.2.0 in /usr/local/lib/python3.7/dist-packages (from jsonlines->dpr==1.0.0) (21.4.0)\n",
            "Requirement already satisfied: click in /usr/local/lib/python3.7/dist-packages (from sacremoses->transformers>=4.3->dpr==1.0.0) (7.1.2)\n",
            "Requirement already satisfied: joblib in /usr/local/lib/python3.7/dist-packages (from sacremoses->transformers>=4.3->dpr==1.0.0) (1.1.0)\n",
            "Requirement already satisfied: six in /usr/local/lib/python3.7/dist-packages (from sacremoses->transformers>=4.3->dpr==1.0.0) (1.15.0)\n",
            "Requirement already satisfied: cffi>=1.0 in /usr/local/lib/python3.7/dist-packages (from soundfile->dpr==1.0.0) (1.15.0)\n",
            "Requirement already satisfied: pycparser in /usr/local/lib/python3.7/dist-packages (from cffi>=1.0->soundfile->dpr==1.0.0) (2.21)\n",
            "Building wheels for collected packages: dpr, antlr4-python3-runtime, wget\n",
            "  Building wheel for dpr (setup.py) ... \u001b[?25l\u001b[?25hdone\n",
            "  Created wheel for dpr: filename=dpr-1.0.0-py3-none-any.whl size=14215 sha256=2cdb51a7453f67ce8cfbf8d8d6e1d5d23ff804238b2068206b800e74785fe28f\n",
            "  Stored in directory: /tmp/pip-ephem-wheel-cache-eqdtzf29/wheels/7e/59/f2/8070463d999ee01a722191f1aa12a107a631be7c34ad39ef0a\n",
            "  Building wheel for antlr4-python3-runtime (setup.py) ... \u001b[?25l\u001b[?25hdone\n",
            "  Created wheel for antlr4-python3-runtime: filename=antlr4_python3_runtime-4.8-py3-none-any.whl size=141230 sha256=ba63bd38c057b36562f1d1907aeeedbfb4224459908ed20c77676e62d5105c95\n",
            "  Stored in directory: /root/.cache/pip/wheels/ca/33/b7/336836125fc9bb4ceaa4376d8abca10ca8bc84ddc824baea6c\n",
            "  Building wheel for wget (setup.py) ... \u001b[?25l\u001b[?25hdone\n",
            "  Created wheel for wget: filename=wget-3.2-py3-none-any.whl size=9675 sha256=3a024839b21808dc93c594d647bf9979d0b676af0885eab0463bbed9b8dd17cd\n",
            "  Stored in directory: /root/.cache/pip/wheels/a1/b6/7c/0e63e34eb06634181c63adacca38b79ff8f35c37e3c13e3c02\n",
            "Successfully built dpr antlr4-python3-runtime wget\n",
            "Installing collected packages: PyYAML, antlr4-python3-runtime, tokenizers, sacremoses, omegaconf, importlib-resources, huggingface-hub, wget, transformers, jsonlines, hydra-core, faiss-cpu, dpr\n",
            "  Attempting uninstall: PyYAML\n",
            "    Found existing installation: PyYAML 3.13\n",
            "    Uninstalling PyYAML-3.13:\n",
            "      Successfully uninstalled PyYAML-3.13\n",
            "  Attempting uninstall: importlib-resources\n",
            "    Found existing installation: importlib-resources 5.7.0\n",
            "    Uninstalling importlib-resources-5.7.0:\n",
            "      Successfully uninstalled importlib-resources-5.7.0\n",
            "Successfully installed PyYAML-6.0 antlr4-python3-runtime-4.8 dpr-1.0.0 faiss-cpu-1.7.2 huggingface-hub-0.5.1 hydra-core-1.1.2 importlib-resources-5.2.3 jsonlines-3.0.0 omegaconf-2.1.2 sacremoses-0.0.49 tokenizers-0.12.1 transformers-4.18.0 wget-3.2\n"
          ]
        },
        {
          "output_type": "display_data",
          "data": {
            "application/vnd.colab-display-data+json": {
              "pip_warning": {
                "packages": [
                  "pydevd_plugins"
                ]
              }
            }
          },
          "metadata": {}
        }
      ]
    },
    {
      "cell_type": "code",
      "source": [
        "! cp /content/drive/MyDrive/Data/DPR/downloads/data/retriever/*.* /content/downloads/data/retriever"
      ],
      "metadata": {
        "id": "A3rd5BXjuwe4"
      },
      "execution_count": 3,
      "outputs": []
    },
    {
      "cell_type": "code",
      "source": [
        "! python DPR/train_dense_encoder.py \\\n",
        "train_datasets=[nq_train] \\\n",
        "dev_datasets=[nq_dev] \\\n",
        "train=biencoder_local \\\n",
        "output_dir=/content/drive/MyDrive/Data/DPR/model"
      ],
      "metadata": {
        "colab": {
          "base_uri": "https://localhost:8080/"
        },
        "id": "Gmv3ROCctjEf",
        "outputId": "5004c188-46a2-4d49-cf5f-22fac0804da7"
      },
      "execution_count": 4,
      "outputs": [
        {
          "output_type": "stream",
          "name": "stdout",
          "text": [
            "[140055804028800] 2022-04-19 21:47:42,402 [INFO] root: Sys.argv: ['DPR/train_dense_encoder.py', 'train_datasets=[nq_train]', 'dev_datasets=[nq_dev]', 'train=biencoder_local', 'output_dir=/content/drive/MyDrive/Data/DPR/model']\n",
            "[140055804028800] 2022-04-19 21:47:42,402 [INFO] root: Hydra formatted Sys.argv: ['DPR/train_dense_encoder.py', 'train_datasets=[nq_train]', 'dev_datasets=[nq_dev]', 'train=biencoder_local', 'output_dir=/content/drive/MyDrive/Data/DPR/model']\n",
            "/usr/local/lib/python3.7/dist-packages/hydra/_internal/defaults_list.py:251: UserWarning: In 'biencoder_train_cfg': Defaults list is missing `_self_`. See https://hydra.cc/docs/upgrades/1.0_to_1.1/default_composition_order for more information\n",
            "  warnings.warn(msg, UserWarning)\n",
            "/usr/local/lib/python3.7/dist-packages/hydra/core/default_element.py:126: UserWarning: In 'datasets/encoder_train_default': Usage of deprecated keyword in package header '# @package _group_'.\n",
            "See https://hydra.cc/docs/next/upgrades/1.0_to_1.1/changes_to_package_header for more information\n",
            "  See {url} for more information\"\"\"\n",
            "/usr/local/lib/python3.7/dist-packages/hydra/core/default_element.py:126: UserWarning: In 'train/biencoder_local': Usage of deprecated keyword in package header '# @package _group_'.\n",
            "See https://hydra.cc/docs/next/upgrades/1.0_to_1.1/changes_to_package_header for more information\n",
            "  See {url} for more information\"\"\"\n",
            "/usr/local/lib/python3.7/dist-packages/hydra/core/default_element.py:126: UserWarning: In 'encoder/hf_bert': Usage of deprecated keyword in package header '# @package _group_'.\n",
            "See https://hydra.cc/docs/next/upgrades/1.0_to_1.1/changes_to_package_header for more information\n",
            "  See {url} for more information\"\"\"\n",
            "[2022-04-19 21:47:42,699][root][INFO] - CFG's local_rank=-1\n",
            "[2022-04-19 21:47:42,699][root][INFO] - Env WORLD_SIZE=None\n",
            "[2022-04-19 21:47:42,771][root][INFO] - Initialized host eb4dc0d25f38 as d.rank -1 on device=cuda, n_gpu=1, world size=1\n",
            "[2022-04-19 21:47:42,771][root][INFO] - 16-bits training: False \n",
            "[2022-04-19 21:47:42,779][root][INFO] - CFG (after gpu  configuration):\n",
            "[2022-04-19 21:47:42,788][root][INFO] - encoder:\n",
            "  encoder_model_type: hf_bert\n",
            "  pretrained_model_cfg: bert-base-uncased\n",
            "  pretrained_file: null\n",
            "  projection_dim: 0\n",
            "  sequence_length: 256\n",
            "  dropout: 0.1\n",
            "  fix_ctx_encoder: false\n",
            "  pretrained: true\n",
            "train:\n",
            "  batch_size: 1\n",
            "  dev_batch_size: 16\n",
            "  adam_eps: 1.0e-08\n",
            "  adam_betas: (0.9, 0.999)\n",
            "  max_grad_norm: 2.0\n",
            "  log_batch_step: 1\n",
            "  train_rolling_loss_step: 100\n",
            "  weight_decay: 0.0\n",
            "  learning_rate: 2.0e-05\n",
            "  warmup_steps: 1237\n",
            "  gradient_accumulation_steps: 1\n",
            "  num_train_epochs: 40\n",
            "  eval_per_epoch: 1\n",
            "  hard_negatives: 1\n",
            "  other_negatives: 0\n",
            "  val_av_rank_hard_neg: 30\n",
            "  val_av_rank_other_neg: 30\n",
            "  val_av_rank_bsz: 128\n",
            "  val_av_rank_max_qs: 10000\n",
            "datasets:\n",
            "  nq_train:\n",
            "    _target_: dpr.data.biencoder_data.JsonQADataset\n",
            "    file: data.retriever.nq-train\n",
            "  nq_train_hn1:\n",
            "    _target_: dpr.data.biencoder_data.JsonQADataset\n",
            "    file: data.retriever.nq-adv-hn-train\n",
            "  nq_dev:\n",
            "    _target_: dpr.data.biencoder_data.JsonQADataset\n",
            "    file: data.retriever.nq-dev\n",
            "  trivia_train:\n",
            "    _target_: dpr.data.biencoder_data.JsonQADataset\n",
            "    file: data.retriever.trivia-train\n",
            "  trivia_dev:\n",
            "    _target_: dpr.data.biencoder_data.JsonQADataset\n",
            "    file: data.retriever.trivia-dev\n",
            "  squad1_train:\n",
            "    _target_: dpr.data.biencoder_data.JsonQADataset\n",
            "    file: data.retriever.squad1-train\n",
            "  squad1_dev:\n",
            "    _target_: dpr.data.biencoder_data.JsonQADataset\n",
            "    file: data.retriever.squad1-dev\n",
            "  webq_train:\n",
            "    _target_: dpr.data.biencoder_data.JsonQADataset\n",
            "    file: data.retriever.webq-train\n",
            "  webq_dev:\n",
            "    _target_: dpr.data.biencoder_data.JsonQADataset\n",
            "    file: data.retriever.webq-dev\n",
            "  curatedtrec_train:\n",
            "    _target_: dpr.data.biencoder_data.JsonQADataset\n",
            "    file: data.retriever.curatedtrec-train\n",
            "  curatedtrec_dev:\n",
            "    _target_: dpr.data.biencoder_data.JsonQADataset\n",
            "    file: data.retriever.curatedtrec-dev\n",
            "train_datasets:\n",
            "- nq_train\n",
            "dev_datasets:\n",
            "- nq_dev\n",
            "output_dir: /content/drive/MyDrive/Data/DPR/model\n",
            "train_sampling_rates: null\n",
            "loss_scale_factors: null\n",
            "do_lower_case: true\n",
            "val_av_rank_start_epoch: 30\n",
            "seed: 12345\n",
            "checkpoint_file_name: dpr_biencoder\n",
            "model_file: null\n",
            "local_rank: -1\n",
            "global_loss_buf_sz: 592000\n",
            "device: cuda\n",
            "distributed_world_size: 1\n",
            "distributed_port: null\n",
            "distributed_init_method: null\n",
            "no_cuda: false\n",
            "n_gpu: 1\n",
            "fp16: false\n",
            "fp16_opt_level: O1\n",
            "special_tokens: null\n",
            "ignore_checkpoint_offset: false\n",
            "ignore_checkpoint_optimizer: false\n",
            "ignore_checkpoint_lr: false\n",
            "multi_q_encoder: false\n",
            "local_shards_dataloader: false\n",
            "\n",
            "[2022-04-19 21:47:42,788][root][INFO] - ***** Initializing components for training *****\n",
            "[2022-04-19 21:47:42,790][root][INFO] - Checkpoint files []\n",
            "[2022-04-19 21:47:50,442][dpr.models.hf_models][INFO] - Initializing HF BERT Encoder. cfg_name=bert-base-uncased\n",
            "Some weights of the model checkpoint at bert-base-uncased were not used when initializing HFBertEncoder: ['cls.predictions.transform.dense.weight', 'cls.predictions.transform.dense.bias', 'cls.predictions.decoder.weight', 'cls.seq_relationship.weight', 'cls.predictions.transform.LayerNorm.weight', 'cls.seq_relationship.bias', 'cls.predictions.bias', 'cls.predictions.transform.LayerNorm.bias']\n",
            "- This IS expected if you are initializing HFBertEncoder from the checkpoint of a model trained on another task or with another architecture (e.g. initializing a BertForSequenceClassification model from a BertForPreTraining model).\n",
            "- This IS NOT expected if you are initializing HFBertEncoder from the checkpoint of a model that you expect to be exactly identical (initializing a BertForSequenceClassification model from a BertForSequenceClassification model).\n",
            "[2022-04-19 21:47:54,205][dpr.models.hf_models][INFO] - Initializing HF BERT Encoder. cfg_name=bert-base-uncased\n",
            "Some weights of the model checkpoint at bert-base-uncased were not used when initializing HFBertEncoder: ['cls.predictions.transform.dense.weight', 'cls.predictions.transform.dense.bias', 'cls.predictions.decoder.weight', 'cls.seq_relationship.weight', 'cls.predictions.transform.LayerNorm.weight', 'cls.seq_relationship.bias', 'cls.predictions.bias', 'cls.predictions.transform.LayerNorm.bias']\n",
            "- This IS expected if you are initializing HFBertEncoder from the checkpoint of a model trained on another task or with another architecture (e.g. initializing a BertForSequenceClassification model from a BertForPreTraining model).\n",
            "- This IS NOT expected if you are initializing HFBertEncoder from the checkpoint of a model that you expect to be exactly identical (initializing a BertForSequenceClassification model from a BertForSequenceClassification model).\n",
            "/usr/local/lib/python3.7/dist-packages/transformers/optimization.py:309: FutureWarning: This implementation of AdamW is deprecated and will be removed in a future version. Use the PyTorch implementation torch.optim.AdamW instead, or set `no_deprecation_warning=True` to disable this warning\n",
            "  FutureWarning,\n",
            "[2022-04-19 21:48:09,445][dpr.utils.conf_utils][INFO] - train_datasets: ['nq_train']\n",
            "[2022-04-19 21:48:09,446][dpr.utils.conf_utils][INFO] - dev_datasets: ['nq_dev']\n",
            "[2022-04-19 21:48:09,448][root][INFO] - Initializing task/set data ['nq_train']\n",
            "[2022-04-19 21:48:09,448][root][INFO] - Calculating shard positions\n",
            "[2022-04-19 21:48:09,448][dpr.data.biencoder_data][INFO] - Loading all data\n",
            "[2022-04-19 21:48:09,450][dpr.data.download_data][INFO] - Requested resource from https://dl.fbaipublicfiles.com/dpr/data/retriever/biencoder-nq-train.json.gz\n",
            "[2022-04-19 21:48:09,450][dpr.data.download_data][INFO] - Download root_dir /content\n",
            "[2022-04-19 21:48:09,450][dpr.data.download_data][INFO] - File to be downloaded as /content/downloads/data/retriever/nq-train.json\n",
            "[2022-04-19 21:48:09,450][dpr.data.download_data][INFO] - File already exist /content/downloads/data/retriever/nq-train.json\n",
            "[2022-04-19 21:48:09,450][dpr.data.download_data][INFO] - Loading from https://dl.fbaipublicfiles.com/dpr/nq_license/LICENSE\n",
            "[2022-04-19 21:48:09,874][dpr.data.download_data][INFO] - Downloaded to /content/downloads/data/retriever/LICENSE\n",
            "[2022-04-19 21:48:09,874][dpr.data.download_data][INFO] - Loading from https://dl.fbaipublicfiles.com/dpr/nq_license/README\n",
            "[2022-04-19 21:48:10,218][dpr.data.download_data][INFO] - Downloaded to /content/downloads/data/retriever/README\n",
            "[2022-04-19 21:48:10,218][dpr.data.biencoder_data][INFO] - Data files: ['/content/downloads/data/retriever/nq-train.json']\n",
            "[2022-04-19 21:48:10,219][root][INFO] - Reading file /content/downloads/data/retriever/nq-train.json\n",
            "tcmalloc: large alloc 7373766656 bytes == 0x55e349ede000 @  0x7f61482fa1e7 0x55e29e68e338 0x55e29e658ad7 0x55e29e7d7575 0x55e29e7718b8 0x55e29e65c3a2 0x55e29e73ac6e 0x55e29e771832 0x55e29e65c3a2 0x55e29e65f5f6 0x55e29e7dac03 0x55e29e65bff9 0x55e29e74dd4d 0x55e29e6cfec8 0x55e29e6cacdd 0x55e29e65d88a 0x55e29e6cfd30 0x55e29e65d7aa 0x55e29e6cb8f6 0x55e29e65d7aa 0x55e29e6cfd30 0x55e29e65d7aa 0x55e29e6cfd30 0x55e29e65d7aa 0x55e29e6cbb4f 0x55e29e65d7aa 0x55e29e6cbb4f 0x55e29e6caa2e 0x55e29e65d88a 0x55e29e6cb8f6 0x55e29e6cacdd\n",
            "tcmalloc: large alloc 7373766656 bytes == 0x55e501fa8000 @  0x7f61482fa1e7 0x55e29e68e338 0x55e29e6a366c 0x55e29e730e13 0x55e29e65bff9 0x55e29e65bef0 0x55e29e6d0123 0x55e29e6caa2e 0x55e29e65df21 0x55e29e65d3d0 0x55e29e65f358 0x55e29e73c441 0x55e29e7dac31 0x55e29e65bff9 0x55e29e74dd4d 0x55e29e6cfec8 0x55e29e6cacdd 0x55e29e65d88a 0x55e29e6cfd30 0x55e29e65d7aa 0x55e29e6cb8f6 0x55e29e65d7aa 0x55e29e6cfd30 0x55e29e65d7aa 0x55e29e6cfd30 0x55e29e65d7aa 0x55e29e6cbb4f 0x55e29e65d7aa 0x55e29e6cbb4f 0x55e29e6caa2e 0x55e29e65d88a\n",
            "^C\n"
          ]
        }
      ]
    }
  ]
}